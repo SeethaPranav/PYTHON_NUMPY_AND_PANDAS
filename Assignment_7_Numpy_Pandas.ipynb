{
 "cells": [
  {
   "cell_type": "code",
   "execution_count": 35,
   "id": "070cb8be-835a-452d-a083-7d5fdb1ee1d0",
   "metadata": {},
   "outputs": [
    {
     "name": "stdout",
     "output_type": "stream",
     "text": [
      "Array:\n",
      " [[ 1  2  3  4  5]\n",
      " [ 6  7  8  9 10]]\n",
      "Array Shape:\n",
      " (2, 5)\n",
      "Array Dimension:\n",
      " 2\n"
     ]
    }
   ],
   "source": [
    "# Exercise 1: (Score : 1)\n",
    "# Create a numpy array containing the numbers from 1 to 10, and then reshape it to a 2x5 matrix.\n",
    "import numpy as np\n",
    "arr = np.arange(1, 11).reshape(2, 5)\n",
    "print(\"Array:\\n\", arr)\n",
    "print(\"Array Shape:\\n\",arr.shape)\n",
    "print(\"Array Dimension:\\n\",arr.ndim)"
   ]
  },
  {
   "cell_type": "code",
   "execution_count": 7,
   "id": "2baa18fa-3fb4-4cf6-b113-dff1e00cf7d8",
   "metadata": {},
   "outputs": [
    {
     "name": "stdout",
     "output_type": "stream",
     "text": [
      "Array:\n",
      " [ 1  2  3  4  5  6  7  8  9 10 11 12 13 14 15 16 17 18 19 20]\n",
      "Extracted elements (between 5th and 15th index):  [ 6  7  8  9 10 11 12 13 14 15 16]\n"
     ]
    }
   ],
   "source": [
    "# Exercise 2: (Score : 1)\n",
    "# Create a numpy array containing the numbers from 1 to 20, and then extract the elements between the 5th and 15th index.\n",
    "arr = np.arange(1, 21)\n",
    "extracted_elements = arr[5:16]\n",
    "print(\"Array:\\n\", arr)\n",
    "print(\"Extracted elements (between 5th and 15th index): \", extracted_elements)"
   ]
  },
  {
   "cell_type": "code",
   "execution_count": 3,
   "id": "2d39ff55-01fc-4098-8967-d7129ab0915b",
   "metadata": {},
   "outputs": [
    {
     "name": "stdout",
     "output_type": "stream",
     "text": [
      "Fruits List:\n",
      " apples     3\n",
      "bananas    2\n",
      "oranges    1\n",
      "dtype: int64\n",
      "\n",
      " Updated Fruits List:\n",
      " apples     3\n",
      "bananas    2\n",
      "oranges    1\n",
      "pears      4\n",
      "dtype: int64\n"
     ]
    }
   ],
   "source": [
    "# Exercise 3: (Score : 2)\n",
    "# Create a Pandas series with the following data: {'apples': 3, 'bananas': 2, 'oranges': 1}. \n",
    "# Then, add a new item to the series with the key 'pears' and the value 4\n",
    "import pandas as pd\n",
    "fruits = pd.Series({'apples': 3, 'bananas': 2, 'oranges': 1})\n",
    "print(\"Fruits List:\\n\",fruits)\n",
    "fruits[\"pears\"] = 4\n",
    "print(\"\\n Updated Fruits List:\\n\",fruits)"
   ]
  },
  {
   "cell_type": "code",
   "execution_count": null,
   "id": "c887a24b-b2aa-4d5e-8573-49ddc2e5a0f5",
   "metadata": {},
   "outputs": [],
   "source": [
    "# Exercise 4: (Score : 2)\n",
    "# Create a dataframe with the following columns: name, age, and gender. The dataframe should have 10 rows of data.\n",
    "\n",
    "df = pd.DataFrame({\n",
    "    \"name\": [\"Aadhya\", \"Arun\", \"Nithya\", \"Vivek\", \"Meera\", \"Sreeja\", \"Santhosh\", \"Anjali\", \"Ravi\", \"Anupama\"],\n",
    "    \"age\": [24, 30, 28, 32, 27, 29, 35, 22, 31, 26],\n",
    "    \"gender\": [\"Female\", \"Male\", \"Female\", \"Male\", \"Female\", \"Female\", \"Male\", \"Female\", \"Male\", \"Female\"]\n",
    "})"
   ]
  },
  {
   "cell_type": "code",
   "execution_count": 9,
   "id": "2348eb40-211a-4e77-99e1-0c889de8b2d0",
   "metadata": {},
   "outputs": [
    {
     "data": {
      "text/html": [
       "<div>\n",
       "<style scoped>\n",
       "    .dataframe tbody tr th:only-of-type {\n",
       "        vertical-align: middle;\n",
       "    }\n",
       "\n",
       "    .dataframe tbody tr th {\n",
       "        vertical-align: top;\n",
       "    }\n",
       "\n",
       "    .dataframe thead th {\n",
       "        text-align: right;\n",
       "    }\n",
       "</style>\n",
       "<table border=\"1\" class=\"dataframe\">\n",
       "  <thead>\n",
       "    <tr style=\"text-align: right;\">\n",
       "      <th></th>\n",
       "      <th>name</th>\n",
       "      <th>age</th>\n",
       "      <th>gender</th>\n",
       "    </tr>\n",
       "  </thead>\n",
       "  <tbody>\n",
       "    <tr>\n",
       "      <th>0</th>\n",
       "      <td>Aadhya</td>\n",
       "      <td>24</td>\n",
       "      <td>Female</td>\n",
       "    </tr>\n",
       "    <tr>\n",
       "      <th>1</th>\n",
       "      <td>Arun</td>\n",
       "      <td>30</td>\n",
       "      <td>Male</td>\n",
       "    </tr>\n",
       "    <tr>\n",
       "      <th>2</th>\n",
       "      <td>Nithya</td>\n",
       "      <td>28</td>\n",
       "      <td>Female</td>\n",
       "    </tr>\n",
       "    <tr>\n",
       "      <th>3</th>\n",
       "      <td>Vivek</td>\n",
       "      <td>32</td>\n",
       "      <td>Male</td>\n",
       "    </tr>\n",
       "    <tr>\n",
       "      <th>4</th>\n",
       "      <td>Meera</td>\n",
       "      <td>27</td>\n",
       "      <td>Female</td>\n",
       "    </tr>\n",
       "    <tr>\n",
       "      <th>5</th>\n",
       "      <td>Sreeja</td>\n",
       "      <td>29</td>\n",
       "      <td>Female</td>\n",
       "    </tr>\n",
       "    <tr>\n",
       "      <th>6</th>\n",
       "      <td>Santhosh</td>\n",
       "      <td>35</td>\n",
       "      <td>Male</td>\n",
       "    </tr>\n",
       "    <tr>\n",
       "      <th>7</th>\n",
       "      <td>Anjali</td>\n",
       "      <td>22</td>\n",
       "      <td>Female</td>\n",
       "    </tr>\n",
       "    <tr>\n",
       "      <th>8</th>\n",
       "      <td>Ravi</td>\n",
       "      <td>31</td>\n",
       "      <td>Male</td>\n",
       "    </tr>\n",
       "    <tr>\n",
       "      <th>9</th>\n",
       "      <td>Anupama</td>\n",
       "      <td>26</td>\n",
       "      <td>Female</td>\n",
       "    </tr>\n",
       "  </tbody>\n",
       "</table>\n",
       "</div>"
      ],
      "text/plain": [
       "       name  age  gender\n",
       "0    Aadhya   24  Female\n",
       "1      Arun   30    Male\n",
       "2    Nithya   28  Female\n",
       "3     Vivek   32    Male\n",
       "4     Meera   27  Female\n",
       "5    Sreeja   29  Female\n",
       "6  Santhosh   35    Male\n",
       "7    Anjali   22  Female\n",
       "8      Ravi   31    Male\n",
       "9   Anupama   26  Female"
      ]
     },
     "execution_count": 9,
     "metadata": {},
     "output_type": "execute_result"
    }
   ],
   "source": [
    "df"
   ]
  },
  {
   "cell_type": "code",
   "execution_count": 23,
   "id": "47d6d563-b848-4aba-842b-89f731faf885",
   "metadata": {},
   "outputs": [
    {
     "data": {
      "text/html": [
       "<div>\n",
       "<style scoped>\n",
       "    .dataframe tbody tr th:only-of-type {\n",
       "        vertical-align: middle;\n",
       "    }\n",
       "\n",
       "    .dataframe tbody tr th {\n",
       "        vertical-align: top;\n",
       "    }\n",
       "\n",
       "    .dataframe thead th {\n",
       "        text-align: right;\n",
       "    }\n",
       "</style>\n",
       "<table border=\"1\" class=\"dataframe\">\n",
       "  <thead>\n",
       "    <tr style=\"text-align: right;\">\n",
       "      <th></th>\n",
       "      <th>name</th>\n",
       "      <th>age</th>\n",
       "      <th>gender</th>\n",
       "      <th>occupation</th>\n",
       "    </tr>\n",
       "  </thead>\n",
       "  <tbody>\n",
       "    <tr>\n",
       "      <th>0</th>\n",
       "      <td>Aadhya</td>\n",
       "      <td>24</td>\n",
       "      <td>Female</td>\n",
       "      <td>Programmer</td>\n",
       "    </tr>\n",
       "    <tr>\n",
       "      <th>1</th>\n",
       "      <td>Arun</td>\n",
       "      <td>30</td>\n",
       "      <td>Male</td>\n",
       "      <td>Manager</td>\n",
       "    </tr>\n",
       "    <tr>\n",
       "      <th>2</th>\n",
       "      <td>Nithya</td>\n",
       "      <td>28</td>\n",
       "      <td>Female</td>\n",
       "      <td>Analyst</td>\n",
       "    </tr>\n",
       "    <tr>\n",
       "      <th>3</th>\n",
       "      <td>Vivek</td>\n",
       "      <td>32</td>\n",
       "      <td>Male</td>\n",
       "      <td>Programmer</td>\n",
       "    </tr>\n",
       "    <tr>\n",
       "      <th>4</th>\n",
       "      <td>Meera</td>\n",
       "      <td>27</td>\n",
       "      <td>Female</td>\n",
       "      <td>Manager</td>\n",
       "    </tr>\n",
       "    <tr>\n",
       "      <th>5</th>\n",
       "      <td>Sreeja</td>\n",
       "      <td>29</td>\n",
       "      <td>Female</td>\n",
       "      <td>Analyst</td>\n",
       "    </tr>\n",
       "    <tr>\n",
       "      <th>6</th>\n",
       "      <td>Santhosh</td>\n",
       "      <td>35</td>\n",
       "      <td>Male</td>\n",
       "      <td>Programmer</td>\n",
       "    </tr>\n",
       "    <tr>\n",
       "      <th>7</th>\n",
       "      <td>Anjali</td>\n",
       "      <td>22</td>\n",
       "      <td>Female</td>\n",
       "      <td>Manager</td>\n",
       "    </tr>\n",
       "    <tr>\n",
       "      <th>8</th>\n",
       "      <td>Ravi</td>\n",
       "      <td>31</td>\n",
       "      <td>Male</td>\n",
       "      <td>Analyst</td>\n",
       "    </tr>\n",
       "    <tr>\n",
       "      <th>9</th>\n",
       "      <td>Anupama</td>\n",
       "      <td>26</td>\n",
       "      <td>Female</td>\n",
       "      <td>Programmer</td>\n",
       "    </tr>\n",
       "  </tbody>\n",
       "</table>\n",
       "</div>"
      ],
      "text/plain": [
       "       name  age  gender  occupation\n",
       "0    Aadhya   24  Female  Programmer\n",
       "1      Arun   30    Male     Manager\n",
       "2    Nithya   28  Female     Analyst\n",
       "3     Vivek   32    Male  Programmer\n",
       "4     Meera   27  Female     Manager\n",
       "5    Sreeja   29  Female     Analyst\n",
       "6  Santhosh   35    Male  Programmer\n",
       "7    Anjali   22  Female     Manager\n",
       "8      Ravi   31    Male     Analyst\n",
       "9   Anupama   26  Female  Programmer"
      ]
     },
     "execution_count": 23,
     "metadata": {},
     "output_type": "execute_result"
    }
   ],
   "source": [
    "# Exercise 5: (Score : 1)\n",
    "# Add a new column to the data frame created in question 1, called occupation. \n",
    "# The values for this column should be Programmer, Manager, and Analyst, corresponding to the rows in the dataframe.\n",
    "\n",
    "df[\"occupation\"] = [\"Programmer\", \"Manager\", \"Analyst\", \"Programmer\", \"Manager\", \n",
    "                     \"Analyst\", \"Programmer\", \"Manager\", \"Analyst\", \"Programmer\"]\n",
    "df"
   ]
  },
  {
   "cell_type": "code",
   "execution_count": 27,
   "id": "c6024242-84a3-4dfd-a537-79673cfc61d3",
   "metadata": {},
   "outputs": [
    {
     "name": "stdout",
     "output_type": "stream",
     "text": [
      "       name  age gender  occupation\n",
      "1      Arun   30   Male     Manager\n",
      "3     Vivek   32   Male  Programmer\n",
      "6  Santhosh   35   Male  Programmer\n",
      "8      Ravi   31   Male     Analyst\n"
     ]
    }
   ],
   "source": [
    "# Exercise 6: (Score : 1)\n",
    "# Select the rows of the dataframe where the age is greater than or equal to 30.\n",
    "\n",
    "df_selected_age = df[df[\"age\"] >= 30]\n",
    "print(df_selected_age)\n"
   ]
  },
  {
   "cell_type": "code",
   "execution_count": 33,
   "id": "3b3f47a7-c1c1-49cc-9d0c-3ec8b79de436",
   "metadata": {},
   "outputs": [
    {
     "name": "stdout",
     "output_type": "stream",
     "text": [
      "File saved as selected_age_data.csv \n",
      "\n",
      "       name  age gender  occupation\n",
      "0      Arun   30   Male     Manager\n",
      "1     Vivek   32   Male  Programmer\n",
      "2  Santhosh   35   Male  Programmer\n",
      "3      Ravi   31   Male     Analyst\n"
     ]
    }
   ],
   "source": [
    "# Exercise 7: (Score : 2)\n",
    "# Convert this dataframe to a csv file and read that csv file, finally display the contents.\n",
    "\n",
    "df_selected_age.to_csv(\"selected_age_data.csv\", index=False)\n",
    "print(\"File saved as selected_age_data.csv \\n\")\n",
    "df_from_csv = pd.read_csv(\"selected_age_data.csv\")\n",
    "print(df_from_csv)\n"
   ]
  },
  {
   "cell_type": "code",
   "execution_count": null,
   "id": "f4164664-2dc1-43a2-a2fc-a562148efc97",
   "metadata": {},
   "outputs": [],
   "source": []
  }
 ],
 "metadata": {
  "kernelspec": {
   "display_name": "Python 3 (ipykernel)",
   "language": "python",
   "name": "python3"
  },
  "language_info": {
   "codemirror_mode": {
    "name": "ipython",
    "version": 3
   },
   "file_extension": ".py",
   "mimetype": "text/x-python",
   "name": "python",
   "nbconvert_exporter": "python",
   "pygments_lexer": "ipython3",
   "version": "3.12.4"
  }
 },
 "nbformat": 4,
 "nbformat_minor": 5
}
